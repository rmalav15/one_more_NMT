{
 "cells": [
  {
   "cell_type": "code",
   "execution_count": 1,
   "metadata": {},
   "outputs": [],
   "source": [
    "from __future__ import absolute_import\n",
    "from __future__ import division\n",
    "from __future__ import print_function\n",
    "\n",
    "import numpy as np\n",
    "import codecs\n",
    "import tensorflow as tf\n",
    "tf.reset_default_graph() #Clears the default graph stack and resets the global default graph.\n",
    "sess = tf.InteractiveSession() #initializes a tensorflow session"
   ]
  },
  {
   "cell_type": "code",
   "execution_count": 2,
   "metadata": {},
   "outputs": [],
   "source": [
    "inputs = tf.get_variable(\"inputs\", shape = (2,3,4) , initializer=tf.ones_initializer, dtype = tf.float32)\n",
    "seq_len = tf.constant([2,1])"
   ]
  },
  {
   "cell_type": "code",
   "execution_count": 3,
   "metadata": {},
   "outputs": [
    {
     "name": "stdout",
     "output_type": "stream",
     "text": [
      "[2 1]\n"
     ]
    }
   ],
   "source": [
    "print(sess.run(seq_len))"
   ]
  },
  {
   "cell_type": "code",
   "execution_count": 4,
   "metadata": {},
   "outputs": [
    {
     "data": {
      "text/plain": [
       "array([[[-0.01496913, -0.0154023 , -0.00945952, -0.01093153,\n",
       "          0.012528  ,  0.02309117, -0.01449627,  0.00051639,\n",
       "          0.03344395, -0.01030043],\n",
       "        [-0.0399227 , -0.03216298, -0.02779255, -0.03057082,\n",
       "          0.02992688,  0.05378921, -0.03730826,  0.00017813,\n",
       "          0.07989282, -0.02536863],\n",
       "        [ 0.        ,  0.        ,  0.        ,  0.        ,\n",
       "          0.        ,  0.        ,  0.        ,  0.        ,\n",
       "          0.        ,  0.        ]],\n",
       "\n",
       "       [[-0.01496913, -0.0154023 , -0.00945952, -0.01093153,\n",
       "          0.012528  ,  0.02309117, -0.01449627,  0.00051639,\n",
       "          0.03344395, -0.01030043],\n",
       "        [ 0.        ,  0.        ,  0.        ,  0.        ,\n",
       "          0.        ,  0.        ,  0.        ,  0.        ,\n",
       "          0.        ,  0.        ],\n",
       "        [ 0.        ,  0.        ,  0.        ,  0.        ,\n",
       "          0.        ,  0.        ,  0.        ,  0.        ,\n",
       "          0.        ,  0.        ]]], dtype=float32)"
      ]
     },
     "execution_count": 4,
     "metadata": {},
     "output_type": "execute_result"
    }
   ],
   "source": [
    "c1 = tf.nn.rnn_cell.LSTMCell(10)\n",
    "c2 = tf.nn.rnn_cell.GRUCell(10)\n",
    "\n",
    "cell = tf.nn.rnn_cell.MultiRNNCell([c1, c2])\n",
    "\n",
    "(out,states) = tf.nn.dynamic_rnn(\n",
    "            cell,\n",
    "            inputs,\n",
    "            dtype=tf.float32,\n",
    "            sequence_length=seq_len)\n",
    "\n",
    "sess.run(tf.global_variables_initializer())\n",
    "sess.run(out)\n",
    "\n"
   ]
  },
  {
   "cell_type": "code",
   "execution_count": 9,
   "metadata": {},
   "outputs": [
    {
     "name": "stdout",
     "output_type": "stream",
     "text": [
      "(LSTMStateTuple(c=10, h=10), 10)\n",
      "(2, 3, 10)\n",
      "(2, 10)\n"
     ]
    }
   ],
   "source": [
    "print(cell.state_size)\n",
    "print(out.shape)\n",
    "print(states[1].shape)"
   ]
  },
  {
   "cell_type": "code",
   "execution_count": 16,
   "metadata": {},
   "outputs": [
    {
     "data": {
      "text/plain": [
       "tf.int32"
      ]
     },
     "execution_count": 16,
     "metadata": {},
     "output_type": "execute_result"
    }
   ],
   "source": [
    "inp = tf.constant([[2,1,2],[2,4,1]])\n",
    "inp.get_shape()\n",
    "inp.dtype"
   ]
  },
  {
   "cell_type": "code",
   "execution_count": 11,
   "metadata": {},
   "outputs": [],
   "source": [
    "tmp = tf.not_equal(inp, 1)\n",
    "input_lengths = tf.reduce_sum(tf.to_int32(tf.not_equal(inp, 1)), 1)"
   ]
  },
  {
   "cell_type": "code",
   "execution_count": 14,
   "metadata": {},
   "outputs": [
    {
     "name": "stdout",
     "output_type": "stream",
     "text": [
      "[2 2]\n"
     ]
    }
   ],
   "source": [
    "print(sess.run(input_lengths))"
   ]
  },
  {
   "cell_type": "code",
   "execution_count": 15,
   "metadata": {},
   "outputs": [
    {
     "name": "stdout",
     "output_type": "stream",
     "text": [
      "[[ True False  True]\n",
      " [ True  True False]]\n"
     ]
    }
   ],
   "source": [
    "print(sess.run(tmp))"
   ]
  },
  {
   "cell_type": "code",
   "execution_count": 2,
   "metadata": {},
   "outputs": [],
   "source": [
    "from nmt_utils.helper import data_helper\n",
    "class opt:\n",
    "    #source_vocab_size = None,\n",
    "    #dest_vocab_size  =None,\n",
    "    source_embedding_size = 1000\n",
    "    dest_embedding_size = 1000\n",
    "    source_training_file = \"/media/user/069A453E9A452B8D/Ram/projectsData/nmt/train.en\"\n",
    "    dest_training_file = \"/media/user/069A453E9A452B8D/Ram/projectsData/nmt/train.vi\"\n",
    "    source_val_file = \"/media/user/069A453E9A452B8D/Ram/projectsData/nmt/tst2012.en\"\n",
    "    dest_val_file = \"/media/user/069A453E9A452B8D/Ram/projectsData/nmt/tst2012.vi\"\n",
    "    source_vocab_file = \"/media/user/069A453E9A452B8D/Ram/projectsData/nmt/vocab.en\"\n",
    "    dest_vocab_file = \"/media/user/069A453E9A452B8D/Ram/projectsData/nmt/vocab.vi\"\n",
    "    \n",
    "data = data_helper(opt) \n",
    "UNK = \"<unk>\"\n",
    "SOS = \"<s>\"\n",
    "EOS = \"</s>\"\n",
    "UNK_ID = 0"
   ]
  },
  {
   "cell_type": "code",
   "execution_count": 3,
   "metadata": {},
   "outputs": [],
   "source": [
    "source_vocab, source_vocab_size = data.load_vocab(opt.source_vocab_file)\n",
    "dest_vocab, dest_vocab_size = data.load_vocab(opt.dest_vocab_file)"
   ]
  },
  {
   "cell_type": "code",
   "execution_count": 4,
   "metadata": {},
   "outputs": [],
   "source": [
    "src_lookup_table, dest_lookup_table = data.create_vocab_tables()"
   ]
  },
  {
   "cell_type": "code",
   "execution_count": 8,
   "metadata": {},
   "outputs": [],
   "source": [
    "src_dataset = tf.data.TextLineDataset(opt.source_val_file)\n"
   ]
  },
  {
   "cell_type": "code",
   "execution_count": null,
   "metadata": {},
   "outputs": [],
   "source": [
    "src_dataset.map()"
   ]
  },
  {
   "cell_type": "code",
   "execution_count": 9,
   "metadata": {},
   "outputs": [],
   "source": [
    "iterator = src_dataset.make_one_shot_iterator()\n",
    "next_element = iterator.get_next()"
   ]
  },
  {
   "cell_type": "code",
   "execution_count": 10,
   "metadata": {},
   "outputs": [],
   "source": [
    "sess.run(tf.global_variables_initializer())\n",
    "sess.run(tf.tables_initializer())"
   ]
  },
  {
   "cell_type": "code",
   "execution_count": 26,
   "metadata": {},
   "outputs": [],
   "source": [
    "#string = sess.run(next_element)\n",
    "string_list= tf.string_split([next_element]).values"
   ]
  },
  {
   "cell_type": "code",
   "execution_count": 24,
   "metadata": {},
   "outputs": [
    {
     "name": "stdout",
     "output_type": "stream",
     "text": [
      "['Let' 'me' 'tell' 'you' 'about' 'some' 'of' 'the' 'pieces' '.']\n"
     ]
    }
   ],
   "source": [
    "print(sess.run(tf.string_split([next_element]).values))"
   ]
  },
  {
   "cell_type": "code",
   "execution_count": 32,
   "metadata": {},
   "outputs": [
    {
     "name": "stdout",
     "output_type": "stream",
     "text": [
      "0\n"
     ]
    }
   ],
   "source": [
    "a = tf.size(src_lookup_table.lookup(string_list)) \n",
    "print(sess.run(src_lookup_table.lookup(tf.constant(UNK))))"
   ]
  },
  {
   "cell_type": "code",
   "execution_count": 40,
   "metadata": {},
   "outputs": [
    {
     "name": "stdout",
     "output_type": "stream",
     "text": [
      "(8, array(['I', 'never', 'knew', 'him', 'in', 'real', 'life', '.'],\n",
      "      dtype=object))\n"
     ]
    }
   ],
   "source": [
    "#print(sess.run(a))\n",
    "print(sess.run((a,string_list)))"
   ]
  },
  {
   "cell_type": "code",
   "execution_count": null,
   "metadata": {},
   "outputs": [],
   "source": []
  }
 ],
 "metadata": {
  "kernelspec": {
   "display_name": "Python 2",
   "language": "python",
   "name": "python2"
  },
  "language_info": {
   "codemirror_mode": {
    "name": "ipython",
    "version": 2
   },
   "file_extension": ".py",
   "mimetype": "text/x-python",
   "name": "python",
   "nbconvert_exporter": "python",
   "pygments_lexer": "ipython2",
   "version": "2.7.12"
  }
 },
 "nbformat": 4,
 "nbformat_minor": 2
}
